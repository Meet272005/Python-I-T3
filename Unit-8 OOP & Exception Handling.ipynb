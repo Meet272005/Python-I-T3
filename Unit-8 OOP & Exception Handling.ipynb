{
 "cells": [
  {
   "cell_type": "markdown",
   "metadata": {},
   "source": [
    "# Unit-8️⃣ OOP & Exception Handling"
   ]
  },
  {
   "cell_type": "markdown",
   "metadata": {},
   "source": [
    "* Error:\n",
    "    * Syntax error\n",
    "    * Exceptions\n",
    "* Error are problems in program due to which program will stop the execution.\n",
    "* Exception are raised when some internal events occurs which change the flow of program.\n",
    "* When exception occurs, python will stop and generate error message."
   ]
  },
  {
   "cell_type": "code",
   "execution_count": 17,
   "metadata": {},
   "outputs": [
    {
     "name": "stdout",
     "output_type": "stream",
     "text": [
      "Exception occured\n",
      "This always print\n",
      "Hello\n"
     ]
    }
   ],
   "source": [
    "def div(a,b):\n",
    "    return a/b\n",
    "try:\n",
    "    print(div(5,0))\n",
    "except:\n",
    "    print(\"Exception occured\")\n",
    "else:\n",
    "    print(\"No Exception\")\n",
    "finally:\n",
    "    print(\"This always print\")\n",
    "print(\"Hello\")"
   ]
  },
  {
   "cell_type": "code",
   "execution_count": 22,
   "metadata": {},
   "outputs": [
    {
     "name": "stdout",
     "output_type": "stream",
     "text": [
      "Exception occured: division by zero\n",
      "This always print\n"
     ]
    }
   ],
   "source": [
    "def div(a,b):\n",
    "    return a/b\n",
    "try:\n",
    "    print(div(5,0))\n",
    "except Exception as e:\n",
    "    print(\"Exception occured:\",e)\n",
    "else:\n",
    "    print(\"No Exception\")\n",
    "finally:\n",
    "    print(\"This always print\")\n"
   ]
  },
  {
   "cell_type": "code",
   "execution_count": 58,
   "metadata": {},
   "outputs": [
    {
     "name": "stdout",
     "output_type": "stream",
     "text": [
      "[Errno 2] No such file or directory: 'abc1.txt'\n"
     ]
    }
   ],
   "source": [
    "try:\n",
    "    m=5\n",
    "    l=[1,2,3]\n",
    "    f=open(\"abc1.txt\",\"r\")\n",
    "    print(f.read())\n",
    "    print(m)\n",
    "    print(5/2)\n",
    "except FileNotFoundError as e:\n",
    "    print(e)"
   ]
  },
  {
   "cell_type": "code",
   "execution_count": 48,
   "metadata": {},
   "outputs": [
    {
     "name": "stdout",
     "output_type": "stream",
     "text": [
      "\n",
      "5\n",
      "2.5\n"
     ]
    }
   ],
   "source": [
    "try:\n",
    "    x=5\n",
    "    l=[1,2,3]\n",
    "    f=open(\"abc.txt\",\"r\")\n",
    "    print(f.read())\n",
    "    print(m)\n",
    "    print(5/2)\n",
    "    l[1]\n",
    "except NameError as e:\n",
    "    print(e)"
   ]
  },
  {
   "cell_type": "code",
   "execution_count": 55,
   "metadata": {},
   "outputs": [
    {
     "name": "stdout",
     "output_type": "stream",
     "text": [
      "\n",
      "5\n",
      "division by zero\n"
     ]
    }
   ],
   "source": [
    "try:\n",
    "    x=5\n",
    "    l=[1,2,3]\n",
    "    f=open(\"abc.txt\",\"r\")\n",
    "    print(f.read())\n",
    "    print(x)\n",
    "    print(5/0)\n",
    "    l[1]\n",
    "except ZeroDivisionError as e:\n",
    "    print(e)"
   ]
  },
  {
   "cell_type": "code",
   "execution_count": 57,
   "metadata": {},
   "outputs": [
    {
     "name": "stdout",
     "output_type": "stream",
     "text": [
      "\n",
      "5\n",
      "2.5\n",
      "list index out of range\n"
     ]
    }
   ],
   "source": [
    "try:\n",
    "    x=5\n",
    "    l=[1,2,3]\n",
    "    f=open(\"abc.txt\",\"r\")\n",
    "    print(f.read())\n",
    "    print(x)\n",
    "    print(5/2)\n",
    "    l[100]\n",
    "except Exception as e:\n",
    "    print(e)"
   ]
  },
  {
   "cell_type": "code",
   "execution_count": 64,
   "metadata": {},
   "outputs": [
    {
     "name": "stdout",
     "output_type": "stream",
     "text": [
      "name 'g' is not defined\n",
      "Rest of code\n"
     ]
    }
   ],
   "source": [
    "a=10\n",
    "b=0\n",
    "try:\n",
    "    d=a/g\n",
    "    print(d)\n",
    "except (NameError,ZeroDivisionError) as obj:\n",
    "    print(obj)\n",
    "print(\"Rest of code\")"
   ]
  },
  {
   "cell_type": "code",
   "execution_count": 65,
   "metadata": {},
   "outputs": [
    {
     "ename": "IndentationError",
     "evalue": "expected an indented block (<ipython-input-65-4528f552097f>, line 3)",
     "output_type": "error",
     "traceback": [
      "\u001b[1;36m  File \u001b[1;32m\"<ipython-input-65-4528f552097f>\"\u001b[1;36m, line \u001b[1;32m3\u001b[0m\n\u001b[1;33m    print(i)\u001b[0m\n\u001b[1;37m    ^\u001b[0m\n\u001b[1;31mIndentationError\u001b[0m\u001b[1;31m:\u001b[0m expected an indented block\n"
     ]
    }
   ],
   "source": [
    "try:\n",
    "    for i in 5:\n",
    "    print(i)\n",
    "except Exception as obj:\n",
    "    print(obj)\n",
    "print(\"Rest of code\")"
   ]
  },
  {
   "cell_type": "markdown",
   "metadata": {},
   "source": [
    "<h3> <li> Raise an Exception"
   ]
  },
  {
   "cell_type": "code",
   "execution_count": 3,
   "metadata": {},
   "outputs": [
    {
     "name": "stdout",
     "output_type": "stream",
     "text": [
      "a should be integer\n"
     ]
    }
   ],
   "source": [
    " def add(a,b):\n",
    "    if type(a)==str:\n",
    "        raise TypeError(\"a should be integer\")\n",
    "    if type(b)==str:\n",
    "        raise TypeError(\"b should be integer\")\n",
    "    return (a+b)\n",
    "\n",
    "try:\n",
    "    add(\"1\",\"abc\")\n",
    "except Exception as e:\n",
    "    print(e)"
   ]
  },
  {
   "cell_type": "code",
   "execution_count": 73,
   "metadata": {},
   "outputs": [
    {
     "ename": "TypeError",
     "evalue": "can only concatenate str (not \"int\") to str",
     "output_type": "error",
     "traceback": [
      "\u001b[1;31m---------------------------------------------------------------------------\u001b[0m",
      "\u001b[1;31mTypeError\u001b[0m                                 Traceback (most recent call last)",
      "\u001b[1;32m<ipython-input-73-a6a20161284c>\u001b[0m in \u001b[0;36m<module>\u001b[1;34m\u001b[0m\n\u001b[0;32m      1\u001b[0m \u001b[1;32mdef\u001b[0m \u001b[0madd\u001b[0m\u001b[1;33m(\u001b[0m\u001b[0ma\u001b[0m\u001b[1;33m,\u001b[0m\u001b[0mb\u001b[0m\u001b[1;33m)\u001b[0m\u001b[1;33m:\u001b[0m\u001b[1;33m\u001b[0m\u001b[1;33m\u001b[0m\u001b[0m\n\u001b[0;32m      2\u001b[0m     \u001b[1;32mreturn\u001b[0m \u001b[1;33m(\u001b[0m\u001b[0ma\u001b[0m\u001b[1;33m+\u001b[0m\u001b[0mb\u001b[0m\u001b[1;33m)\u001b[0m\u001b[1;33m\u001b[0m\u001b[1;33m\u001b[0m\u001b[0m\n\u001b[1;32m----> 3\u001b[1;33m \u001b[0mprint\u001b[0m\u001b[1;33m(\u001b[0m\u001b[0madd\u001b[0m\u001b[1;33m(\u001b[0m\u001b[1;34m\"XYZ\"\u001b[0m\u001b[1;33m,\u001b[0m\u001b[1;36m10\u001b[0m\u001b[1;33m)\u001b[0m\u001b[1;33m)\u001b[0m\u001b[1;33m\u001b[0m\u001b[1;33m\u001b[0m\u001b[0m\n\u001b[0m",
      "\u001b[1;32m<ipython-input-73-a6a20161284c>\u001b[0m in \u001b[0;36madd\u001b[1;34m(a, b)\u001b[0m\n\u001b[0;32m      1\u001b[0m \u001b[1;32mdef\u001b[0m \u001b[0madd\u001b[0m\u001b[1;33m(\u001b[0m\u001b[0ma\u001b[0m\u001b[1;33m,\u001b[0m\u001b[0mb\u001b[0m\u001b[1;33m)\u001b[0m\u001b[1;33m:\u001b[0m\u001b[1;33m\u001b[0m\u001b[1;33m\u001b[0m\u001b[0m\n\u001b[1;32m----> 2\u001b[1;33m     \u001b[1;32mreturn\u001b[0m \u001b[1;33m(\u001b[0m\u001b[0ma\u001b[0m\u001b[1;33m+\u001b[0m\u001b[0mb\u001b[0m\u001b[1;33m)\u001b[0m\u001b[1;33m\u001b[0m\u001b[1;33m\u001b[0m\u001b[0m\n\u001b[0m\u001b[0;32m      3\u001b[0m \u001b[0mprint\u001b[0m\u001b[1;33m(\u001b[0m\u001b[0madd\u001b[0m\u001b[1;33m(\u001b[0m\u001b[1;34m\"XYZ\"\u001b[0m\u001b[1;33m,\u001b[0m\u001b[1;36m10\u001b[0m\u001b[1;33m)\u001b[0m\u001b[1;33m)\u001b[0m\u001b[1;33m\u001b[0m\u001b[1;33m\u001b[0m\u001b[0m\n",
      "\u001b[1;31mTypeError\u001b[0m: can only concatenate str (not \"int\") to str"
     ]
    }
   ],
   "source": [
    "def add(a,b):\n",
    "    return (a+b)\n",
    "print(add(\"XYZ\",10))"
   ]
  },
  {
   "cell_type": "markdown",
   "metadata": {},
   "source": [
    "<h3> <li> Custom Exception"
   ]
  },
  {
   "cell_type": "code",
   "execution_count": 83,
   "metadata": {},
   "outputs": [
    {
     "name": "stdout",
     "output_type": "stream",
     "text": [
      "Personalized Error\n"
     ]
    }
   ],
   "source": [
    "class Meet(Exception):\n",
    "    def __init__(self,arg):\n",
    "        self.msg=arg\n",
    "def add(a,b):\n",
    "    if type(a)==str:\n",
    "        raise Meet(\"Personalized Error\")\n",
    "    if type(b)==str:\n",
    "        raise TypeError(\"b should be integer\")\n",
    "    return (a+b)\n",
    "\n",
    "try:\n",
    "    add(\"1\",\"abc\")\n",
    "except Exception as e:\n",
    "    print(e)"
   ]
  },
  {
   "cell_type": "code",
   "execution_count": 5,
   "metadata": {},
   "outputs": [
    {
     "name": "stdout",
     "output_type": "stream",
     "text": [
      "Enter withdraw amount:1210001\n",
      "Low Balance\n"
     ]
    }
   ],
   "source": [
    "# TASK: Design a function which raises exception when amount is > Balance.\n",
    "\n",
    "balance=10000;\n",
    "amount=int(input(\"Enter withdraw amount:\"))\n",
    "try:\n",
    "    if amount>balance:\n",
    "        raise Exception(\"Low Balance\")\n",
    "    else:\n",
    "        balance=balance-amount\n",
    "        print(\"Amount Withdrawed:\",amount)\n",
    "        print(\"Available Balance:\",balance)\n",
    "except Exception as e:\n",
    "    print(e)"
   ]
  },
  {
   "cell_type": "markdown",
   "metadata": {},
   "source": [
    "<h2> <li> <u> Object Oriented Programming"
   ]
  },
  {
   "cell_type": "code",
   "execution_count": 8,
   "metadata": {},
   "outputs": [
    {
     "name": "stdout",
     "output_type": "stream",
     "text": [
      "<class 'int'>\n",
      "<class 'str'>\n",
      "<class 'module'>\n",
      "<class 'type'>\n"
     ]
    }
   ],
   "source": [
    "#  Everything in python is class/object\n",
    "\n",
    "x=42\n",
    "print(type(x))\n",
    "\n",
    "y=\"Hello\"\n",
    "print(type(y))\n",
    "\n",
    "import math\n",
    "print(type(math))\n",
    "print(type(type))\n"
   ]
  },
  {
   "cell_type": "markdown",
   "metadata": {},
   "source": [
    "* Class:\n",
    "    * User defined data structure that binds data members and methods into a single unit.\n",
    "    * class is a blue print or code template for object creation\n",
    "    * using a class,you can create as many as you want.\n",
    " \n",
    "* Object:\n",
    "    * object is an instance of a class\n",
    "    * it is collection of attributes and methods\n",
    "    * it is used to perform action"
   ]
  },
  {
   "cell_type": "code",
   "execution_count": 20,
   "metadata": {},
   "outputs": [
    {
     "name": "stdout",
     "output_type": "stream",
     "text": [
      "Employee name: abc\n",
      "Employee age: 34\n",
      "Employee salary; 50000\n",
      "Employee name: xyz\n",
      "Employee age: 26\n",
      "Employee salary; 60000\n"
     ]
    }
   ],
   "source": [
    "class Employee:\n",
    "    def __init__(self,name,age,salary):\n",
    "        self.name=name\n",
    "        self.age=age\n",
    "        self.salary=salary\n",
    "    \n",
    "    def display(self):\n",
    "        print(\"Employee name:\",self.name)\n",
    "        print(\"Employee age:\",self.age)        \n",
    "        print(\"Employee salary;\",self.salary)\n",
    "\n",
    "emp1=Employee(\"abc\",34,50000)\n",
    "emp1.display()\n",
    "emp2=Employee(\"xyz\",26,60000)\n",
    "emp2.display()"
   ]
  },
  {
   "cell_type": "code",
   "execution_count": 5,
   "metadata": {},
   "outputs": [
    {
     "name": "stdout",
     "output_type": "stream",
     "text": [
      "Employee name: xyz\n",
      "Employee age: 30\n",
      "Employee salary; 40000\n",
      "Employee name: abc\n",
      "Employee age: 34\n",
      "Employee salary; 50000\n",
      "50\n",
      "abcxyz\n"
     ]
    }
   ],
   "source": [
    "# STATIC METHOD\n",
    "\n",
    "class Employee:\n",
    "    def __init__(self,name,age,salary):\n",
    "        self.name=name\n",
    "        self.age=age\n",
    "        self.salary=salary\n",
    "    \n",
    "    @staticmethod\n",
    "    def display(self):\n",
    "        print(\"Employee name:\",self.name)\n",
    "        print(\"Employee age:\",self.age)        \n",
    "        print(\"Employee salary;\",self.salary)\n",
    "        \n",
    "    @staticmethod\n",
    "    def add(a,b):\n",
    "        print(a+b)\n",
    "            \n",
    "emp1=Employee(\"abc\",34,50000)\n",
    "emp2=Employee(\"xyz\",30,40000)\n",
    "emp1.display(emp2)\n",
    "emp2.display(emp1)      \n",
    "emp1.add(20,30)\n",
    "emp2.add(\"abc\",\"xyz\")"
   ]
  },
  {
   "cell_type": "code",
   "execution_count": 14,
   "metadata": {},
   "outputs": [
    {
     "name": "stdout",
     "output_type": "stream",
     "text": [
      "Year: 2020\n",
      "Model: civic\n",
      "Color: red\n",
      "Year: 2022\n",
      "Model: dzire\n",
      "Color: blue\n"
     ]
    }
   ],
   "source": [
    "class car:\n",
    "    def __init__(self,year,model,color):\n",
    "        self.year=year\n",
    "        self.model=model\n",
    "        self.color=color\n",
    "    \n",
    "#     @staticmethod\n",
    "    def display(self):\n",
    "        print(\"Year:\",self.year)\n",
    "        print(\"Model:\",self.model)        \n",
    "        print(\"Color:\",self.color)\n",
    "    \n",
    "c1=car(2020,\"civic\",\"red\")\n",
    "c2=car(2022,\"dzire\",\"blue\")\n",
    "c1.display()\n",
    "c2.display()"
   ]
  },
  {
   "cell_type": "code",
   "execution_count": 23,
   "metadata": {},
   "outputs": [
    {
     "name": "stdout",
     "output_type": "stream",
     "text": [
      "Name: Harry\n",
      "Salary: 50000\n",
      "Role: Engineer\n",
      "\n",
      "Name: Rohan\n",
      "Salary: 60000\n",
      "Role: Developer\n",
      "\n"
     ]
    }
   ],
   "source": [
    "class Employee:\n",
    "    no_of_leaves=5\n",
    "    def printdetails(self):\n",
    "        print(\"Name:\",self.name)\n",
    "        print(\"Salary:\",self.salary)        \n",
    "        print(\"Role:\",self.role+\"\\n\")   \n",
    "        \n",
    "harry=Employee()\n",
    "rohan=Employee()\n",
    "harry.name=\"Harry\"\n",
    "rohan.name=\"Rohan\"\n",
    "harry.salary=50000\n",
    "rohan.salary=60000\n",
    "harry.role=\"Engineer\"\n",
    "rohan.role=\"Developer\"\n",
    "harry.printdetails()\n",
    "rohan.printdetails()"
   ]
  },
  {
   "cell_type": "code",
   "execution_count": 26,
   "metadata": {},
   "outputs": [
    {
     "name": "stdout",
     "output_type": "stream",
     "text": [
      "50\n"
     ]
    }
   ],
   "source": [
    "class test:\n",
    "    def __init__(self):\n",
    "        self.value=50\n",
    "#         show() Error\n",
    "        self.show()\n",
    "\n",
    "    def show(self):\n",
    "        print(self.value)\n",
    "        \n",
    "a=test()"
   ]
  },
  {
   "cell_type": "code",
   "execution_count": 38,
   "metadata": {},
   "outputs": [
    {
     "name": "stdout",
     "output_type": "stream",
     "text": [
      "Address of self:  2058741947312\n",
      "Address of obj :  2058741947312\n",
      "5 \n",
      "\n",
      "Address of self:  2058735898928\n",
      "Address of obj :  2058735898928\n",
      "5 \n",
      "\n"
     ]
    }
   ],
   "source": [
    "class check:\n",
    "    def __init__(self,m):\n",
    "        print(\"Address of self: \",id(self))\n",
    "        self.m=m\n",
    "\n",
    "obj1=check(5)\n",
    "print(\"Address of obj : \",id(obj1))\n",
    "print(obj1.m,\"\\n\")\n",
    "\n",
    "obj2=check(5)\n",
    "print(\"Address of obj : \",id(obj2))\n",
    "print(obj2.m,\"\\n\")"
   ]
  },
  {
   "cell_type": "code",
   "execution_count": 45,
   "metadata": {},
   "outputs": [
    {
     "name": "stdout",
     "output_type": "stream",
     "text": [
      "5 5 140715581253536 140715581253536\n",
      "10 5 140715581253696 140715581253536\n"
     ]
    }
   ],
   "source": [
    "class Account():\n",
    "    rate=5\n",
    "    def some_method(self):\n",
    "        print(self.rate,Account.rate,id(self.rate),id(Account.rate))\n",
    "        self.rate=10\n",
    "        print(self.rate,Account.rate,id(self.rate),id(Account.rate))\n",
    "        \n",
    "a1=Account()\n",
    "a2=Account()\n",
    "a1.some_method()"
   ]
  },
  {
   "cell_type": "markdown",
   "metadata": {},
   "source": [
    "<h2> <li> <u> Concept of self and other"
   ]
  },
  {
   "cell_type": "code",
   "execution_count": 64,
   "metadata": {},
   "outputs": [
    {
     "name": "stdout",
     "output_type": "stream",
     "text": [
      "30 30\n",
      "35 30\n",
      "35 30\n",
      "Age is different\n",
      "35 35\n",
      "Age is same\n"
     ]
    }
   ],
   "source": [
    "class Person:\n",
    "    def __init__(self):\n",
    "        self.name=\"Jhon\"\n",
    "        self.age=30\n",
    "        \n",
    "    def update(self):\n",
    "        self.age=35\n",
    "        \n",
    "    def compare(self,other):\n",
    "        print(self.age,other.age)\n",
    "        if self.age==other.age:\n",
    "            print(\"Age is same\")\n",
    "        else:\n",
    "            print(\"Age is different\")\n",
    "    \n",
    "p1=Person()\n",
    "p2=Person()\n",
    "print(p1.age,p2.age)\n",
    "p1.update()\n",
    "print(p1.age,p2.age)\n",
    "p1.compare(p2)\n",
    "p2.update()\n",
    "p2.compare(p1)"
   ]
  },
  {
   "cell_type": "markdown",
   "metadata": {},
   "source": [
    "<h2> <li> <u> Destructor"
   ]
  },
  {
   "cell_type": "markdown",
   "metadata": {},
   "source": [
    "* Used to perform the clean up activity before destroying an object such as closing database connections or filehandle.\n",
    "* Python has a garbage collection that handels memory management automatically.\n",
    "* it cleans up the memory when an object goes out of scope"
   ]
  },
  {
   "cell_type": "code",
   "execution_count": 1,
   "metadata": {},
   "outputs": [
    {
     "name": "stdout",
     "output_type": "stream",
     "text": [
      "Employee name: abc\n",
      "Employee age: 34\n",
      "Employee salary: 50000\n",
      "Employee name: xyz\n",
      "Employee age: 30\n",
      "Employee salary: 40000\n",
      "object is destroyed\n"
     ]
    }
   ],
   "source": [
    "class Employee:\n",
    "    def __init__(self,name,age,salary):\n",
    "        self.name=name\n",
    "        self.age=age\n",
    "        self.salary=salary\n",
    "    \n",
    "    def __del__(self):\n",
    "        print(\"object is destroyed\")\n",
    "    \n",
    "    def display(self):\n",
    "        print(\"Employee name:\",self.name)\n",
    "        print(\"Employee age:\",self.age)        \n",
    "        print(\"Employee salary:\",self.salary)\n",
    "    \n",
    "emp1=Employee(\"abc\",34,50000)\n",
    "emp2=Employee(\"xyz\",30,40000)\n",
    "emp1.display()\n",
    "emp2.display()    \n",
    "del emp2\n",
    "# emp2.display()    "
   ]
  },
  {
   "cell_type": "markdown",
   "metadata": {},
   "source": [
    "<h2> <li> <u> Class variable vs Instance Variable"
   ]
  },
  {
   "cell_type": "code",
   "execution_count": 11,
   "metadata": {},
   "outputs": [
    {
     "name": "stdout",
     "output_type": "stream",
     "text": [
      "Yes\n",
      "Yes\n"
     ]
    }
   ],
   "source": [
    "class Mobile:\n",
    "    fp=\"Yes\"\n",
    "    \n",
    "    @classmethod\n",
    "    def show(cls):\n",
    "        print(cls.fp)\n",
    "realme=Mobile()\n",
    "realme.show()\n",
    "print(Mobile.fp)"
   ]
  },
  {
   "cell_type": "code",
   "execution_count": 19,
   "metadata": {},
   "outputs": [
    {
     "name": "stdout",
     "output_type": "stream",
     "text": [
      "Realme X\n",
      "Realme X\n"
     ]
    }
   ],
   "source": [
    "class Mobile:\n",
    "    def __init__(self):\n",
    "        self.model=\"Realme X\"\n",
    "    \n",
    "    def show_model(self):\n",
    "        print(self.model)\n",
    "realme=Mobile()\n",
    "realme.show_model()\n",
    "print(realme.model)"
   ]
  },
  {
   "cell_type": "code",
   "execution_count": 22,
   "metadata": {},
   "outputs": [
    {
     "name": "stdout",
     "output_type": "stream",
     "text": [
      "Yes\n",
      "Realme X\n",
      "Yes\n",
      "Realme X\n"
     ]
    }
   ],
   "source": [
    "class Mobile:\n",
    "    fp=\"Yes\"\n",
    "    \n",
    "    def __init__(self):\n",
    "        self.model=\"Realme X\"\n",
    "    \n",
    "    def show_model(self):\n",
    "        print(self.model)\n",
    "        \n",
    "    @classmethod\n",
    "    def show(cls):\n",
    "        print(cls.fp)\n",
    "realme=Mobile()\n",
    "realme.show()\n",
    "realme.show_model()\n",
    "Mobile.show()\n",
    "# Mobile.show_model() Error"
   ]
  },
  {
   "cell_type": "code",
   "execution_count": 37,
   "metadata": {},
   "outputs": [
    {
     "name": "stdout",
     "output_type": "stream",
     "text": [
      "The name is: orange\n",
      "The name is: banana\n",
      "The name is: banana\n",
      "Strawberry\n"
     ]
    }
   ],
   "source": [
    "class Fruit:\n",
    "    name=\"orange\"\n",
    "    \n",
    "    @classmethod\n",
    "    def printname(cls):\n",
    "        print(\"The name is:\",cls.name)\n",
    "        \n",
    "    def show(self):\n",
    "        print(self.name)\n",
    "\n",
    "Fruit.printname()\n",
    "apple=Fruit()\n",
    "Fruit.name=\"banana\"\n",
    "Fruit.printname()\n",
    "apple.name=\"Strawberry\"\n",
    "apple.printname()\n",
    "apple.show()"
   ]
  },
  {
   "cell_type": "markdown",
   "metadata": {},
   "source": [
    "<h2> <u> Encapsulation"
   ]
  },
  {
   "cell_type": "markdown",
   "metadata": {},
   "source": [
    "* Process of binding data and corresponding methods together into a single unit is called Encapsulation in python.\n",
    "* Programming technique that binds the class members(variables and method) together and prevents them from being accessed by other class.\n",
    "* Way to ensure security.\n",
    "* It hides the data from the access of outsiders by encapsulating it."
   ]
  },
  {
   "cell_type": "markdown",
   "metadata": {},
   "source": [
    "* Public:  name    ( Accessible everywhere)\n",
    "* Protected: _name ( Accessible only in class and sub class)\n",
    "* Private: __name  ( Accessible only in class )"
   ]
  },
  {
   "cell_type": "markdown",
   "metadata": {},
   "source": [
    "<h2><li><u> Getters and setters"
   ]
  },
  {
   "cell_type": "markdown",
   "metadata": {},
   "source": [
    "class library:\n",
    "    def __init__(self,id,name):\n",
    "        self.book=id\n",
    "        self.bookname=name\n",
    "    \n",
    "    def getbookname(self):\n",
    "        print(\"The book is:\",self.bookname)\n",
    "        \n",
    "    def setbookname(self,newbookname):\n",
    "        self.bookname=newbookname\n",
    "        \n",
    "book=library(1,\"The witchers\")\n",
    "book.getbookname()\n",
    "book.setbookname(\"The witchers Returns\")\n",
    "book.getbookname()\n"
   ]
  },
  {
   "cell_type": "markdown",
   "metadata": {},
   "source": [
    "<h2> <u> Abstraction"
   ]
  },
  {
   "cell_type": "markdown",
   "metadata": {},
   "source": [
    "* Abtractions is a way that just shows us the functionality anything holds ,hiding all the implementations or inner details\n",
    "* Main goal of abstraction is to hide background details or any unnecessary implementation about the data so that users only see the required information.\n",
    "* it helps in handling the complexity of the codes."
   ]
  },
  {
   "cell_type": "markdown",
   "metadata": {},
   "source": [
    "<h2> <u> Python Generators"
   ]
  },
  {
   "cell_type": "markdown",
   "metadata": {},
   "source": [
    "* Used to create iterators.\n",
    "* Generators can also an expression in which syntax is similar to the list comprehension.\n",
    "* next() method to keep the trackof internal states.\n",
    "* If no value found in iteration it raises **stop iteration** exception"
   ]
  },
  {
   "cell_type": "code",
   "execution_count": 14,
   "metadata": {},
   "outputs": [
    {
     "name": "stdout",
     "output_type": "stream",
     "text": [
      "<class 'generator'>\n",
      "[0, 2, 4, 6, 8]\n"
     ]
    }
   ],
   "source": [
    "def simple():\n",
    "    for i in range(10):\n",
    "        if i%2==0:\n",
    "            yield i\n",
    "x=simple()\n",
    "print(type(x))\n",
    "print(list(x))"
   ]
  },
  {
   "cell_type": "code",
   "execution_count": 20,
   "metadata": {},
   "outputs": [
    {
     "name": "stdout",
     "output_type": "stream",
     "text": [
      "10\n",
      "20\n",
      "30\n",
      "40\n"
     ]
    }
   ],
   "source": [
    "def fun():\n",
    "    yield 10\n",
    "    yield 20\n",
    "    yield 30    \n",
    "    yield 40 \n",
    "\n",
    "for i in fun():\n",
    "    print(i)"
   ]
  },
  {
   "cell_type": "code",
   "execution_count": 21,
   "metadata": {},
   "outputs": [
    {
     "name": "stdout",
     "output_type": "stream",
     "text": [
      "10\n",
      "20\n",
      "30\n",
      "40\n"
     ]
    }
   ],
   "source": [
    "def fun():\n",
    "    yield \"10\"\n",
    "    yield \"20\"\n",
    "    yield \"30\"    \n",
    "    yield \"40\" \n",
    "\n",
    "for i in fun():\n",
    "    print(i)"
   ]
  },
  {
   "cell_type": "code",
   "execution_count": 23,
   "metadata": {},
   "outputs": [
    {
     "name": "stdout",
     "output_type": "stream",
     "text": [
      "1\n",
      "0\n"
     ]
    }
   ],
   "source": [
    "def fun():\n",
    "    return \"10\"\n",
    "    return \"20\"\n",
    "    return \"30\"    \n",
    "    return \"40\" \n",
    "\n",
    "for i in fun():\n",
    "    print(i)"
   ]
  },
  {
   "cell_type": "code",
   "execution_count": 26,
   "metadata": {},
   "outputs": [],
   "source": [
    "def fun():\n",
    "    return 10\n",
    "    return 20\n",
    "    return 30    \n",
    "    return 40 \n",
    "\n",
    "for i in fun():\n",
    "    print(i)\n",
    "    \n",
    "#     ---------------------------------------------------------------------------\n",
    "# TypeError                                 Traceback (most recent call last)\n",
    "# <ipython-input-24-76bfb045099b> in <module>\n",
    "#       5     return 40\n",
    "#       6 \n",
    "# ----> 7 for i in fun():\n",
    "#       8     print(i)\n",
    "\n",
    "# TypeError: 'int' object is not iterable"
   ]
  },
  {
   "cell_type": "code",
   "execution_count": 33,
   "metadata": {},
   "outputs": [
    {
     "name": "stdout",
     "output_type": "stream",
     "text": [
      "(10, 20, 30, 40)\n",
      "(50, 60, 70, 80)\n",
      "<class 'tuple'>\n"
     ]
    }
   ],
   "source": [
    "def fun():\n",
    "    yield 10,20,30,40\n",
    "    yield 50,60,70,80\n",
    "    \n",
    "for i in fun():\n",
    "    print(i)\n",
    "print(type(i))"
   ]
  },
  {
   "cell_type": "code",
   "execution_count": 35,
   "metadata": {},
   "outputs": [
    {
     "name": "stdout",
     "output_type": "stream",
     "text": [
      "Delhi\n",
      "Mumbai\n",
      "Chennai\n",
      "Loop: Kolkata\n",
      "Loop: Banglore\n",
      "Loop: Hyderabad\n"
     ]
    }
   ],
   "source": [
    "def city_generator():\n",
    "    yield 'Delhi'    \n",
    "    yield 'Mumbai'\n",
    "    yield 'Chennai'    \n",
    "    yield 'Kolkata'    \n",
    "    yield 'Banglore'    \n",
    "    yield 'Hyderabad'\n",
    "\n",
    "city=city_generator()\n",
    "print(next(city))\n",
    "print(next(city))\n",
    "print(next(city))\n",
    "for i in city:\n",
    "    print(\"Loop:\",i)"
   ]
  },
  {
   "cell_type": "code",
   "execution_count": 38,
   "metadata": {},
   "outputs": [
    {
     "name": "stdout",
     "output_type": "stream",
     "text": [
      "Delhi\n",
      "Mumbai\n",
      "Chennai\n",
      "Kolkata\n",
      "Banglore\n",
      "Hyderabad\n"
     ]
    }
   ],
   "source": [
    "def city_generator():\n",
    "    yield 'Delhi'    \n",
    "    yield 'Mumbai'\n",
    "    yield 'Chennai'    \n",
    "    yield 'Kolkata'    \n",
    "    yield 'Banglore'    \n",
    "    yield 'Hyderabad'\n",
    "\n",
    "city=city_generator()\n",
    "print(next(city))\n",
    "print(next(city))\n",
    "print(next(city))\n",
    "print(next(city))\n",
    "print(next(city))\n",
    "print(next(city))\n",
    "# print(next(city))\n",
    "# #StopIteration                             Traceback (most recent call last)\n",
    "# <ipython-input-37-a505ec15fa44> in <module>\n",
    "#      14 print(next(city))\n",
    "#      15 print(next(city))\n",
    "# ---> 16 print(next(city))"
   ]
  },
  {
   "cell_type": "code",
   "execution_count": 5,
   "metadata": {},
   "outputs": [
    {
     "name": "stdout",
     "output_type": "stream",
     "text": [
      "Enter marks of subject 1: 45\n",
      "Enter marks of subject 2: 63\n",
      "Enter marks of subject 3: 96\n",
      "Enter marks of subject 4: 85\n",
      "Enter marks of subject 5: 65\n",
      "\n",
      "Name: Meet\n",
      "Roll no: 55\n",
      "Branch: CSE\n",
      "Marks:\n",
      "\tMarks of subject 1: 45\n",
      "\tMarks of subject 2: 63\n",
      "\tMarks of subject 3: 96\n",
      "\tMarks of subject 4: 85\n",
      "\tMarks of subject 5: 65\n",
      "\n",
      "Average marks: 70.8 \n",
      "\n",
      "Enter marks of subject 1: 45\n",
      "Enter marks of subject 2: 6\n",
      "Enter marks of subject 3: 45\n",
      "Enter marks of subject 4: 56\n",
      "Enter marks of subject 5: 90\n",
      "\n",
      "Name: Divy\n",
      "Roll no: 69\n",
      "Branch: CSE\n",
      "Marks:\n",
      "\tMarks of subject 1: 45\n",
      "\tMarks of subject 2: 6\n",
      "\tMarks of subject 3: 45\n",
      "\tMarks of subject 4: 56\n",
      "\tMarks of subject 5: 90\n",
      "\n",
      "Average marks: 48.4 \n",
      "\n",
      "Enter marks of subject 1: 52\n",
      "Enter marks of subject 2: 36\n",
      "Enter marks of subject 3: 98\n",
      "Enter marks of subject 4: 78\n",
      "Enter marks of subject 5: 56\n",
      "\n",
      "Name: Laden\n",
      "Roll no: 911\n",
      "Branch: CSE\n",
      "Marks:\n",
      "\tMarks of subject 1: 52\n",
      "\tMarks of subject 2: 36\n",
      "\tMarks of subject 3: 98\n",
      "\tMarks of subject 4: 78\n",
      "\tMarks of subject 5: 56\n",
      "\n",
      "Average marks: 64.0 \n",
      "\n"
     ]
    }
   ],
   "source": [
    "# WAP to create a class student there will be 3 variables :roll no ,name and branch \n",
    "#  Consider branch as a class variable , make three methods as given below\n",
    "#  1 st Method : Enter marks of 5 subjects and store it in list.\n",
    "#  2 nd Method: It will display the details of student and marks if entered.\n",
    "#  3 rd Method: Calculating the average of all marks.\n",
    "\n",
    "class Student:\n",
    "    \n",
    "    branch=\"CSE\"\n",
    "    m=[]\n",
    "    \n",
    "    def __init__(self,name,rollno):\n",
    "        self.name=name\n",
    "        self.rollno=rollno\n",
    "        self.m=[]\n",
    "        self.marks()\n",
    "        self.display()\n",
    "        self.calculate()\n",
    "    \n",
    "    def marks(self):\n",
    "           if len(self.m)==0:\n",
    "                for i in range(5):\n",
    "                    t=int(input(f\"Enter marks of subject {i+1}: \"))\n",
    "                    self.m.append(t)\n",
    "        \n",
    "    def display(self):\n",
    "        print(\"\\nName:\",self.name)\n",
    "        print(\"Roll no:\",self.rollno)\n",
    "        print(\"Branch:\",self.branch)\n",
    "        print(\"Marks:\",)\n",
    "        \n",
    "        if len(self.m)==0:\n",
    "              self.marks()\n",
    "        for i in range(len(self.m)):\n",
    "              print(f\"\\tMarks of subject {i+1}:\",self.m[i])\n",
    "           \n",
    "        \n",
    "    def calculate(self):\n",
    "        if len(self.m)==0:\n",
    "              self.marks()\n",
    "        sum=0\n",
    "        if len(self.m)==0:\n",
    "            self.marks()\n",
    "        for i in self.m:\n",
    "            sum=sum+i\n",
    "\n",
    "        print(\"\\nAverage marks:\",sum/len(self.m),\"\\n\")\n",
    "\n",
    "student1=Student(\"Meet\",55)    \n",
    "student2=Student(\"Divy\",69)    \n",
    "student3=Student(\"Laden\",911)    \n",
    "\n",
    "# student1.marks()\n",
    "# student1.display()\n",
    "# student1.calculate()\n",
    "\n",
    "# student2.display()\n",
    "# student2.marks()\n",
    "# student2.calculate()\n",
    "\n",
    "# student3.calculate()\n",
    "# student3.marks()\n",
    "# student3.display()"
   ]
  },
  {
   "cell_type": "code",
   "execution_count": 10,
   "metadata": {},
   "outputs": [
    {
     "name": "stdout",
     "output_type": "stream",
     "text": [
      "Enter string:Bhavsar Meet is in Batch B2\n",
      "Digits: 1\n",
      "Consonent: 14\n",
      "Vowel: 1\n",
      "Upper: 4\n",
      "Lower: 17\n",
      "Spaces: 0\n"
     ]
    }
   ],
   "source": [
    "# WAP to create class string and make methods to count uppercase ,lowercase,vowels,consonents ,digits and \n",
    "# spaces in the string entered by user.\n",
    "\n",
    "class String:\n",
    "    \n",
    "    def __init__(self,s):\n",
    "        self.s=s\n",
    "        self.list=[]\n",
    "        self.d=0\n",
    "        self.v=0\n",
    "        self.c=0\n",
    "        self.u=0\n",
    "        self.l=0\n",
    "        self.digits()\n",
    "        self.vowel()\n",
    "        self.upper()\n",
    "        self.lower()\n",
    "        self.display()\n",
    "        self.space()\n",
    "       \n",
    "    def digits(self):\n",
    "        for i in self.s:\n",
    "            if i.isdigit():\n",
    "                self.d=self.d+1\n",
    "                \n",
    "    def vowel(self):\n",
    "        for i in self.s:\n",
    "            if i.isalpha():\n",
    "                if i in \"AEIOUaeiou\":\n",
    "                    self.v=self.v+1\n",
    "                else:\n",
    "                    self.c=self.c+1\n",
    "                    \n",
    "    def upper(self):\n",
    "        for i in self.s:\n",
    "            if i.isalpha():\n",
    "                if i.isupper():\n",
    "                    self.u=self.u+1\n",
    "                    \n",
    "    def lower(self):\n",
    "        for i in self.s:\n",
    "            if i.isalpha():\n",
    "                if i.islower():\n",
    "                    self.l=self.l+1\n",
    "                    \n",
    "    def space(self):\n",
    "        self.list=s.split()\n",
    "                    \n",
    "    def display(self):\n",
    "        print(\"Digits:\",self.d)\n",
    "        print(\"Consonent:\",self.c)\n",
    "        print(\"Vowel:\",self.d)\n",
    "        print(\"Upper:\",self.u)\n",
    "        print(\"Lower:\",self.l)\n",
    "        print(\"Spaces:\",len(self.list))\n",
    "        \n",
    "s=input(\"Enter string:\")\n",
    "s1=String(s)"
   ]
  },
  {
   "cell_type": "code",
   "execution_count": null,
   "metadata": {},
   "outputs": [],
   "source": []
  }
 ],
 "metadata": {
  "kernelspec": {
   "display_name": "Python 3",
   "language": "python",
   "name": "python3"
  },
  "language_info": {
   "codemirror_mode": {
    "name": "ipython",
    "version": 3
   },
   "file_extension": ".py",
   "mimetype": "text/x-python",
   "name": "python",
   "nbconvert_exporter": "python",
   "pygments_lexer": "ipython3",
   "version": "3.8.5"
  }
 },
 "nbformat": 4,
 "nbformat_minor": 4
}
