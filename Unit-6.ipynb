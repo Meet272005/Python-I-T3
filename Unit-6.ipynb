{
 "cells": [
  {
   "cell_type": "markdown",
   "metadata": {},
   "source": [
    "<h1><u>Unit-6️⃣ Working with files</u></h1>"
   ]
  },
  {
   "cell_type": "markdown",
   "metadata": {},
   "source": [
    "* Python inbuilt Function:\n",
    "    * Create\n",
    "    * Read\n",
    "    * Write\n",
    "   \n",
    "* Types of Files:\n",
    "    * text files :Terminates for line '\\n'\n",
    "    * Binary files: understandable for terminator for new line '\\n'\n",
    "    \n",
    "* Modes in Python:\n",
    "    * r  : read\n",
    "    * r+ : read and append   \n",
    "    * w : write only   \n",
    "    * w+ :write and read\n",
    "    * a : append    \n",
    "    * a+ : append and read"
   ]
  },
  {
   "cell_type": "code",
   "execution_count": 22,
   "metadata": {},
   "outputs": [
    {
     "name": "stdout",
     "output_type": "stream",
     "text": [
      "Hello World\n",
      "H\n",
      "i\n",
      "False\n",
      "True\n"
     ]
    }
   ],
   "source": [
    "f=open(\"Demo0.txt\",\"r\")\n",
    "print(f.read())\n",
    "print(f.closed)\n",
    "f.close() # Return none.\n",
    "print(f.closed)"
   ]
  },
  {
   "cell_type": "code",
   "execution_count": 19,
   "metadata": {},
   "outputs": [
    {
     "name": "stdout",
     "output_type": "stream",
     "text": [
      "Hello World\n",
      "H\n",
      "i\n",
      "False\n",
      "True\n"
     ]
    }
   ],
   "source": [
    "with open(\"Demo0.txt\",\"r\") as f:\n",
    "    print(f.read())    \n",
    "    print(f.closed)    \n",
    "print(f.closed)"
   ]
  },
  {
   "cell_type": "code",
   "execution_count": 42,
   "metadata": {},
   "outputs": [
    {
     "name": "stdout",
     "output_type": "stream",
     "text": [
      "\n",
      "14\n",
      "\n",
      "This is python\n"
     ]
    }
   ],
   "source": [
    "f=open(\"Demo0.txt\",\"w+\")\n",
    "print(f.read())\n",
    "print(f.write(\"This is python\")) #returns length\n",
    "print(f.read())\n",
    "f.close()\n",
    "g=open(\"Demo0.txt\",\"r+\")\n",
    "print(g.read())\n",
    "g.close()"
   ]
  },
  {
   "cell_type": "code",
   "execution_count": 49,
   "metadata": {},
   "outputs": [
    {
     "name": "stdout",
     "output_type": "stream",
     "text": [
      "on\n"
     ]
    }
   ],
   "source": [
    "t=open(\"Demo0.txt\",\"r+\")\n",
    "t.write(\"This is java\")\n",
    "print(t.read())\n",
    "t.close()"
   ]
  },
  {
   "cell_type": "markdown",
   "metadata": {},
   "source": [
    "<h2>Reading the files</h2>"
   ]
  },
  {
   "cell_type": "markdown",
   "metadata": {},
   "source": [
    "* read()\n",
    "* readline()\n",
    "* readlines()"
   ]
  },
  {
   "cell_type": "code",
   "execution_count": 83,
   "metadata": {},
   "outputs": [
    {
     "data": {
      "text/plain": [
       "'This Python1\\nThis Python2\\nThis Python3\\nThis Python4\\nThis Python5'"
      ]
     },
     "execution_count": 83,
     "metadata": {},
     "output_type": "execute_result"
    }
   ],
   "source": [
    "f=open(\"Demo1.txt\",\"rt\")\n",
    "f.read() "
   ]
  },
  {
   "cell_type": "code",
   "execution_count": 78,
   "metadata": {},
   "outputs": [
    {
     "name": "stdout",
     "output_type": "stream",
     "text": [
      "This Python1\n",
      "This Python2\n",
      "This Python3\n",
      "This Python4\n",
      "This Python5\n",
      "64\n"
     ]
    }
   ],
   "source": [
    "f.seek(0)\n",
    "print(f.read())\n",
    "print(f.tell())"
   ]
  },
  {
   "cell_type": "code",
   "execution_count": 99,
   "metadata": {},
   "outputs": [
    {
     "data": {
      "text/plain": [
       "'This Python2\\n'"
      ]
     },
     "execution_count": 99,
     "metadata": {},
     "output_type": "execute_result"
    }
   ],
   "source": [
    "f.seek(0)\n",
    "f.readline()\n",
    "f.readline()"
   ]
  },
  {
   "cell_type": "code",
   "execution_count": 110,
   "metadata": {},
   "outputs": [
    {
     "name": "stdout",
     "output_type": "stream",
     "text": [
      "This \n",
      "is Pytho\n",
      "n1\n",
      "\n",
      "This is Python2\n",
      "\n",
      "32\n"
     ]
    }
   ],
   "source": [
    "f.seek(0)\n",
    "print(f.readline(5))\n",
    "print(f.readline(8))\n",
    "print(f.readline(10))\n",
    "print(f.readline(50))\n",
    "print(f.tell())"
   ]
  },
  {
   "cell_type": "code",
   "execution_count": 132,
   "metadata": {},
   "outputs": [
    {
     "name": "stdout",
     "output_type": "stream",
     "text": [
      "['This is Python1\\n', 'This is Python2\\n', 'This is Python3\\n', 'This is Python4\\n', 'This is Python5']\n",
      "79\n"
     ]
    }
   ],
   "source": [
    "f.seek(0)\n",
    "print(f.readlines()) #16 is index here\n",
    "print(f.tell()) #it will not work if parameter is given in readlines"
   ]
  },
  {
   "cell_type": "code",
   "execution_count": 112,
   "metadata": {},
   "outputs": [
    {
     "data": {
      "text/plain": [
       "['This is Python1\\n',\n",
       " 'This is Python2\\n',\n",
       " 'This is Python3\\n',\n",
       " 'This is Python4\\n',\n",
       " 'This is Python5']"
      ]
     },
     "execution_count": 112,
     "metadata": {},
     "output_type": "execute_result"
    }
   ],
   "source": [
    "f.seek(0)\n",
    "f.readlines()"
   ]
  },
  {
   "cell_type": "code",
   "execution_count": 97,
   "metadata": {},
   "outputs": [
    {
     "name": "stdout",
     "output_type": "stream",
     "text": [
      "This \n",
      "5\n",
      "Python1\n",
      "Th\n",
      "15\n",
      "is \n",
      "18\n",
      "Python2\n",
      "This Python3\n",
      "38\n"
     ]
    }
   ],
   "source": [
    "f.seek(0)\n",
    "print(f.read(5))\n",
    "print(f.tell())\n",
    "print(f.read(10))\n",
    "print(f.tell())\n",
    "print(f.read(3))\n",
    "print(f.tell())\n",
    "print(f.read(20))\n",
    "print(f.tell())"
   ]
  },
  {
   "cell_type": "code",
   "execution_count": 145,
   "metadata": {},
   "outputs": [],
   "source": [
    "f=open(\"B2.txt\",\"w\")\n",
    "f.write(\"This is test1 file\\n\")\n",
    "f.close()"
   ]
  },
  {
   "cell_type": "code",
   "execution_count": 144,
   "metadata": {},
   "outputs": [],
   "source": [
    "with open(\"B2.txt\",\"w\") as f:\n",
    "    f.write(\"This is Alternate Method\\n\")"
   ]
  },
  {
   "cell_type": "code",
   "execution_count": 146,
   "metadata": {},
   "outputs": [
    {
     "name": "stdout",
     "output_type": "stream",
     "text": [
      "Enter name 1: Eleven\n",
      "Enter name 2: Max\n",
      "Enter name 3: Will\n",
      "Enter name 4: Dustin\n",
      "Enter name 5: Steve\n"
     ]
    }
   ],
   "source": [
    "with open(\"Name.txt\",\"w\") as f:\n",
    "    for i in range(1,6):\n",
    "        name=input(f\"Enter name {i}: \" ) +\"\\n\"\n",
    "        f.write(name)"
   ]
  },
  {
   "cell_type": "markdown",
   "metadata": {},
   "source": [
    "<h2>Writing the files</h2>"
   ]
  },
  {
   "cell_type": "markdown",
   "metadata": {},
   "source": [
    "* write()\n",
    "* writelines()"
   ]
  },
  {
   "cell_type": "code",
   "execution_count": 149,
   "metadata": {},
   "outputs": [],
   "source": [
    "f=open(\"DemoWrite.txt\",\"w\")\n",
    "l=[\"A\\n\",\"B\\n\",\"C\\n\",\"D\\n\"]\n",
    "f.writelines(l)\n",
    "f.close()"
   ]
  },
  {
   "cell_type": "code",
   "execution_count": 153,
   "metadata": {},
   "outputs": [
    {
     "name": "stdout",
     "output_type": "stream",
     "text": [
      "Enter name 1: Steve\n",
      "Enter name 2: Billy\n",
      "Enter name 3: Rudolph\n",
      "Enter name 4: Jim\n",
      "Enter name 5: Sherlock\n"
     ]
    }
   ],
   "source": [
    "name=[]\n",
    "with open(\"Name.txt\",\"w\") as f:\n",
    "    for i in range(1,6):\n",
    "        name.append(input(f\"Enter name {i}: \" ) +\"\\n\")\n",
    "    f.writelines(name)"
   ]
  },
  {
   "cell_type": "code",
   "execution_count": 10,
   "metadata": {},
   "outputs": [],
   "source": [
    "g=open(\"Name.txt\",\"r\")\n",
    "name=[]\n",
    "with open(\"Name2.txt\",\"w\") as f:\n",
    "    for i in g:\n",
    "        name.append(i)\n",
    "    f.writelines(name)"
   ]
  },
  {
   "cell_type": "code",
   "execution_count": 4,
   "metadata": {},
   "outputs": [],
   "source": [
    "# Write a dictionary to a file in python.\n",
    "\n",
    "x={\"Name:\":\"Alice\", \"Age: \":\"20\",\"Degree: \":\"CSE\",\"University: \":\"Oxford University\"}\n",
    "\n",
    "with open(\"File0.txt\",\"w\") as f:\n",
    "    for a,b in x.items():\n",
    "        f.write(a)\n",
    "        f.write(b+\"\\n\")"
   ]
  },
  {
   "cell_type": "code",
   "execution_count": 14,
   "metadata": {},
   "outputs": [],
   "source": [
    "# Write a Python program to copy content of one file to another file in uppercase.\n",
    "\n",
    "g=open(\"Name.txt\",\"r\")\n",
    "name=[]\n",
    "with open(\"Name2.txt\",\"w\") as f:\n",
    "#     for i in g:\n",
    "#         name.append(i.upper()) OR\n",
    "    name=g.read()\n",
    "    f.writelines(name)"
   ]
  },
  {
   "cell_type": "code",
   "execution_count": 15,
   "metadata": {},
   "outputs": [],
   "source": [
    "# WAP to reverse the content of a file and store it another file.\n",
    "g=open(\"Name.txt\",\"r\")\n",
    "name=[]\n",
    "with open(\"Name3.txt\",\"w\") as f:\n",
    "    name=g.readline()\n",
    "    f.writelines(name)"
   ]
  },
  {
   "cell_type": "code",
   "execution_count": 56,
   "metadata": {},
   "outputs": [
    {
     "name": "stdout",
     "output_type": "stream",
     "text": [
      "['Steve\\n', 'Billy\\n', 'Rudolph\\n', 'Jim\\n', 'Sherlock\\n']\n"
     ]
    }
   ],
   "source": [
    "g=open(\"Name.txt\",\"r\")\n",
    "with open(\"Name4.txt\",\"w\") as f:\n",
    "    name=g.readlines()\n",
    "    print(name)\n",
    "    for i in range(len(name)):\n",
    "        f.writelines(name.pop())"
   ]
  },
  {
   "cell_type": "code",
   "execution_count": 59,
   "metadata": {},
   "outputs": [],
   "source": [
    "# WAP to print copy ood line from one file to another\n",
    "\n",
    "g=open(\"Name.txt\",\"r\")\n",
    "name=[]\n",
    "with open(\"oddline.txt\",\"w\") as f:\n",
    "    name=g.readlines()\n",
    "    for i in range(len(name)):\n",
    "        if i%2==0:\n",
    "            f.writelines(name[i])            "
   ]
  },
  {
   "cell_type": "code",
   "execution_count": 70,
   "metadata": {},
   "outputs": [
    {
     "name": "stdout",
     "output_type": "stream",
     "text": [
      "Steve\n",
      "\n",
      "Billy\n",
      "\n",
      "Rudolph\n",
      "\n",
      "Jim\n",
      "\n",
      "Sherlock\n",
      "\n",
      "Enter any key to continue or else q to quit.\n",
      "Enter key: f\n",
      "Age: 20\n",
      "\n",
      "Degree: CSE\n",
      "\n",
      "University: Oxford University\n",
      "\n",
      "Unit- Working with files\n",
      "\n",
      "Python inbuilt Function:\n",
      "\n",
      "Enter any key to continue or else q to quit.\n",
      "Enter key: gf\n",
      "Create\n",
      "\n",
      "Read\n",
      "\n",
      "Write\n",
      "\n",
      "Types of Files:\n",
      "\n",
      "\n",
      "\n",
      "Enter any key to continue or else q to quit.\n",
      "Enter key: Q\n"
     ]
    }
   ],
   "source": [
    "# WAP a pagger program ,you solution should from file and dispaly the next  \n",
    "# file 5 lines at a time causing each time to ask the user to press any key to continue  and press Q to quit.\n",
    "\n",
    "count=0\n",
    "f=open(\"Pagger.txt\",\"r\")\n",
    "name=f.readlines()\n",
    "for i in range(len(name)):\n",
    "    if count!=5:\n",
    "        print(name[i])  \n",
    "        count=count+1\n",
    "    else:\n",
    "        print(\"Enter any key to continue or else q to quit.\")\n",
    "        key=input(\"Enter key: \").lower()\n",
    "        if key==\"q\":\n",
    "            break\n",
    "        else:\n",
    "            count=0"
   ]
  },
  {
   "cell_type": "code",
   "execution_count": 71,
   "metadata": {},
   "outputs": [],
   "source": [
    "# WAP to copy the content content of 2 files into a single file.\n",
    "\n",
    "g=open(\"Name.txt\",\"r\")\n",
    "h=open(\"File0.txt\",\"r\")\n",
    "with open(\"SingleFile.txt\",\"w\") as f:\n",
    "    f.writelines(g.read())            \n",
    "    f.writelines(h.read())            "
   ]
  },
  {
   "cell_type": "code",
   "execution_count": 83,
   "metadata": {},
   "outputs": [],
   "source": [
    "# WAP to copy line from 1 file to another excluding the comments\n",
    "g=open(\"File1.txt\",\"r\")\n",
    "with open(\"Addition.txt\",\"w\") as f:\n",
    "    for i in g.readlines():\n",
    "        f.writelines(i[:i.find(\"#\")]+\"\\n\")\n"
   ]
  },
  {
   "cell_type": "code",
   "execution_count": 1,
   "metadata": {},
   "outputs": [
    {
     "name": "stdout",
     "output_type": "stream",
     "text": [
      "File is close: False\n",
      "File name: Demo0.txt\n",
      "File mode: r\n",
      "File is readable: True\n",
      "File is writable: False\n"
     ]
    }
   ],
   "source": [
    "f=open(\"Demo0.txt\",\"r\")\n",
    "print(\"File is close:\",f.closed)\n",
    "print(\"File name:\",f.name)\n",
    "print(\"File mode:\",f.mode)\n",
    "print(\"File is readable:\",f.readable())\n",
    "print(\"File is writable:\",f.writable())"
   ]
  },
  {
   "cell_type": "code",
   "execution_count": null,
   "metadata": {},
   "outputs": [],
   "source": []
  }
 ],
 "metadata": {
  "kernelspec": {
   "display_name": "Python 3",
   "language": "python",
   "name": "python3"
  },
  "language_info": {
   "codemirror_mode": {
    "name": "ipython",
    "version": 3
   },
   "file_extension": ".py",
   "mimetype": "text/x-python",
   "name": "python",
   "nbconvert_exporter": "python",
   "pygments_lexer": "ipython3",
   "version": "3.8.5"
  }
 },
 "nbformat": 4,
 "nbformat_minor": 4
}
