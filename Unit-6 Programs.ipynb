{
 "cells": [
  {
   "cell_type": "code",
   "execution_count": 17,
   "metadata": {},
   "outputs": [
    {
     "name": "stdout",
     "output_type": "stream",
     "text": [
      "line 1 Position 9\n",
      "line 2 Position 6\n",
      "line 2 Position 9\n"
     ]
    }
   ],
   "source": [
    "# WAP to compare two files and find the difference in line and character.(same no of lines and same no character in each line)\n",
    "\n",
    "g=open(\"Textfile2.txt\",\"r\")\n",
    "l1=[]\n",
    "l2=[]\n",
    "with open(\"Textfile1.txt\",\"r\") as f:\n",
    "    l1=g.readlines()\n",
    "    l2=f.readlines()\n",
    "    \n",
    "    for i in range(len(l1)):\n",
    "        for j in range(len(l1[i])):\n",
    "            if l1[i][j]!=l2[i][j]:\n",
    "                print(\"line\",i+1,\"Position\",j+1)\n",
    "    "
   ]
  },
  {
   "cell_type": "code",
   "execution_count": 18,
   "metadata": {},
   "outputs": [
    {
     "name": "stdout",
     "output_type": "stream",
     "text": [
      "line 1 Position 6\n",
      "line 1 Position 9\n",
      "line 1 Position 10\n",
      "line 1 Position 11\n",
      "line 1 Position 12\n",
      "line 1 Position 13\n",
      "line 2 Position 9\n",
      "line 2 Position 10\n",
      "line 2 Position 11\n",
      "line 2 Position 12\n"
     ]
    }
   ],
   "source": [
    "# WAP to compare two files and find the difference in line and character.(not same no. of lines nor same no character in each line)\n",
    "\n",
    "g=open(\"Textfile2.txt\",\"r\")\n",
    "l1=[]\n",
    "l2=[]\n",
    "with open(\"Textfile1.txt\",\"r\") as f:\n",
    "    l1=g.readlines()\n",
    "    l2=f.readlines()\n",
    "    \n",
    "    for i in range(min(len(l1),len(l1))):\n",
    "        for j in range(min(len(l1[i]),len(l2[i]))):\n",
    "            if l1[i][j]!=l2[i][j]:\n",
    "                print(\"line\",i+1,\"Position\",j+1)\n",
    "    \n",
    "    "
   ]
  },
  {
   "cell_type": "code",
   "execution_count": 31,
   "metadata": {},
   "outputs": [
    {
     "name": "stdout",
     "output_type": "stream",
     "text": [
      "Words: 9\n",
      "Characters: 32\n",
      "Spaces: 6\n"
     ]
    }
   ],
   "source": [
    "#WAP to count words,character and spaces from text file.\n",
    "\n",
    "with open(\"Textfile1.txt\",\"r\") as f:\n",
    "    r=f.read()\n",
    "    l1=r.split()\n",
    "    countC=len(r)-r.count(\" \")-r.count(\"\\n\")\n",
    "    countS=r.count(\" \")\n",
    "    print(\"Words:\",len(l1))\n",
    "    print(\"Characters:\",countC)\n",
    "    print(\"Spaces:\",countS)"
   ]
  },
  {
   "cell_type": "code",
   "execution_count": 39,
   "metadata": {},
   "outputs": [],
   "source": [
    "# WAP to replace a word in file.\n",
    "r=\"\"\n",
    "with open(\"Textfile3.txt\",\"r\") as f:\n",
    "    r=f.read()\n",
    "    r=r.replace(\"Friends\",\"Enemy\")\n",
    "f=open(\"Textfile3.txt\",\"w\")\n",
    "f.write(r)\n",
    "f.close()"
   ]
  },
  {
   "cell_type": "code",
   "execution_count": 49,
   "metadata": {},
   "outputs": [
    {
     "name": "stdout",
     "output_type": "stream",
     "text": [
      "62\n",
      "!yek ecnecil ekil era sdneirf,neggek ekil era ymenE\n",
      "\n"
     ]
    }
   ],
   "source": [
    "# WAP to reverse the content of one file and store it in second file and also convert the content of second \n",
    "# file into uppercase and store it third file and also count number of vowels in third file and also print \n",
    "# second line from the content of third file.\n",
    "\n",
    "a=open(\"Textfile3.txt\",\"r\")\n",
    "b1=open(\"Textfile4.txt\",\"r\")\n",
    "b2=open(\"Textfile4.txt\",\"w\")\n",
    "c=open(\"Textfile5.txt\",\"w\")\n",
    "\n",
    "s1=a.read()\n",
    "s2=s1[::-1]\n",
    "s3=s2.upper()\n",
    "l=b1.readlines()\n",
    "b1.close()\n",
    "b2.write(s2)\n",
    "c.write(s3)\n",
    "a.close()\n",
    "b.close()\n",
    "c.close()\n",
    "print(s3.count(\"A\")+s3.count(\"E\")+s3.count(\"I\")+s3.count(\"O\")+s3.count(\"U\"))\n",
    "print(l[1])"
   ]
  },
  {
   "cell_type": "code",
   "execution_count": 53,
   "metadata": {},
   "outputs": [
    {
     "name": "stdout",
     "output_type": "stream",
     "text": [
      "Enter String: My name is Meet\n",
      "Enter String: Hasmukhbhai\n",
      "Enter String: bhavsar\n",
      "Enter String: I say Hello\n",
      "Enter String: n\n",
      "My name is Meet\n",
      "\n",
      "Hasmukhbhai\n",
      "\n",
      "I say Hello\n",
      "\n"
     ]
    }
   ],
   "source": [
    "# WAP to accept String or sentence from user till the user enter n.\n",
    "# Each String and sentence entered by the user should be a new line in file,save all the line in file and display only those\n",
    "# line which begins with capital letter.\n",
    "\n",
    "with open(\"Textfile6.txt\",\"w\") as f:\n",
    "     while True:\n",
    "            s=input(\"Enter String: \")\n",
    "            if s==\"n\":\n",
    "                break\n",
    "            f.writelines(s+\"\\n\")\n",
    "\n",
    "g=open(\"Textfile6.txt\",\"r\")\n",
    "l=g.readlines()\n",
    "\n",
    "for i in l:\n",
    "    if i[0].isupper():\n",
    "        print(i)"
   ]
  },
  {
   "cell_type": "code",
   "execution_count": 58,
   "metadata": {},
   "outputs": [
    {
     "name": "stdout",
     "output_type": "stream",
     "text": [
      "File is close: False\n",
      "File name: Demo0.txt\n",
      "File mode: r\n",
      "File is readable: True\n",
      "File is writable: False\n"
     ]
    }
   ],
   "source": [
    "f=open(\"Demo0.txt\",\"r\")\n",
    "print(\"File is close:\",f.closed)\n",
    "print(\"File name:\",f.name)\n",
    "print(\"File mode:\",f.mode)\n",
    "print(\"File is readable:\",f.readable())\n",
    "print(\"File is writable:\",f.writable())"
   ]
  },
  {
   "cell_type": "code",
   "execution_count": 64,
   "metadata": {},
   "outputs": [
    {
     "name": "stdout",
     "output_type": "stream",
     "text": [
      "Enter String: are\n",
      "6\n"
     ]
    }
   ],
   "source": [
    "# WAP to search for a string entered by user in text file.\n",
    "\n",
    "with open(\"TextFile3.txt\",\"r\") as f:\n",
    "    print(f.read().find(input(\"Enter String: \")))"
   ]
  },
  {
   "cell_type": "code",
   "execution_count": 69,
   "metadata": {},
   "outputs": [
    {
     "name": "stdout",
     "output_type": "stream",
     "text": [
      "True\n",
      "False\n"
     ]
    }
   ],
   "source": [
    "import os\n",
    "print(os.path.isfile('Demo0.txt'))\n",
    "print(os.path.isfile('Demo10.txt'))"
   ]
  },
  {
   "cell_type": "code",
   "execution_count": 72,
   "metadata": {},
   "outputs": [
    {
     "name": "stdout",
     "output_type": "stream",
     "text": [
      "62\n"
     ]
    },
    {
     "ename": "IndexError",
     "evalue": "list index out of range",
     "output_type": "error",
     "traceback": [
      "\u001b[1;31m---------------------------------------------------------------------------\u001b[0m",
      "\u001b[1;31mIndexError\u001b[0m                                Traceback (most recent call last)",
      "\u001b[1;32m<ipython-input-72-8ae3f24830a1>\u001b[0m in \u001b[0;36m<module>\u001b[1;34m\u001b[0m\n\u001b[0;32m     13\u001b[0m \u001b[0mc\u001b[0m\u001b[1;33m.\u001b[0m\u001b[0mclose\u001b[0m\u001b[1;33m(\u001b[0m\u001b[1;33m)\u001b[0m\u001b[1;33m\u001b[0m\u001b[1;33m\u001b[0m\u001b[0m\n\u001b[0;32m     14\u001b[0m \u001b[0mprint\u001b[0m\u001b[1;33m(\u001b[0m\u001b[0ms3\u001b[0m\u001b[1;33m.\u001b[0m\u001b[0mcount\u001b[0m\u001b[1;33m(\u001b[0m\u001b[1;34m\"A\"\u001b[0m\u001b[1;33m)\u001b[0m\u001b[1;33m+\u001b[0m\u001b[0ms3\u001b[0m\u001b[1;33m.\u001b[0m\u001b[0mcount\u001b[0m\u001b[1;33m(\u001b[0m\u001b[1;34m\"E\"\u001b[0m\u001b[1;33m)\u001b[0m\u001b[1;33m+\u001b[0m\u001b[0ms3\u001b[0m\u001b[1;33m.\u001b[0m\u001b[0mcount\u001b[0m\u001b[1;33m(\u001b[0m\u001b[1;34m\"I\"\u001b[0m\u001b[1;33m)\u001b[0m\u001b[1;33m+\u001b[0m\u001b[0ms3\u001b[0m\u001b[1;33m.\u001b[0m\u001b[0mcount\u001b[0m\u001b[1;33m(\u001b[0m\u001b[1;34m\"O\"\u001b[0m\u001b[1;33m)\u001b[0m\u001b[1;33m+\u001b[0m\u001b[0ms3\u001b[0m\u001b[1;33m.\u001b[0m\u001b[0mcount\u001b[0m\u001b[1;33m(\u001b[0m\u001b[1;34m\"U\"\u001b[0m\u001b[1;33m)\u001b[0m\u001b[1;33m)\u001b[0m\u001b[1;33m\u001b[0m\u001b[1;33m\u001b[0m\u001b[0m\n\u001b[1;32m---> 15\u001b[1;33m \u001b[0mprint\u001b[0m\u001b[1;33m(\u001b[0m\u001b[0ml\u001b[0m\u001b[1;33m[\u001b[0m\u001b[1;36m1\u001b[0m\u001b[1;33m]\u001b[0m\u001b[1;33m)\u001b[0m\u001b[1;33m\u001b[0m\u001b[1;33m\u001b[0m\u001b[0m\n\u001b[0m",
      "\u001b[1;31mIndexError\u001b[0m: list index out of range"
     ]
    }
   ],
   "source": [
    "a=open(\"Textfile3.txt\",\"r\")\n",
    "b=open(\"Textfile4.txt\",\"r+\")\n",
    "c=open(\"Textfile5.txt\",\"w\")\n",
    "\n",
    "s1=a.read()\n",
    "s2=s1[::-1]\n",
    "s3=s2.upper()\n",
    "b.write(s2)\n",
    "l=b.readlines()\n",
    "c.write(s3)\n",
    "a.close()\n",
    "b.close()\n",
    "c.close()\n",
    "print(s3.count(\"A\")+s3.count(\"E\")+s3.count(\"I\")+s3.count(\"O\")+s3.count(\"U\"))\n",
    "print(l[1])"
   ]
  },
  {
   "cell_type": "code",
   "execution_count": null,
   "metadata": {},
   "outputs": [],
   "source": []
  }
 ],
 "metadata": {
  "kernelspec": {
   "display_name": "Python 3",
   "language": "python",
   "name": "python3"
  },
  "language_info": {
   "codemirror_mode": {
    "name": "ipython",
    "version": 3
   },
   "file_extension": ".py",
   "mimetype": "text/x-python",
   "name": "python",
   "nbconvert_exporter": "python",
   "pygments_lexer": "ipython3",
   "version": "3.8.5"
  }
 },
 "nbformat": 4,
 "nbformat_minor": 4
}
